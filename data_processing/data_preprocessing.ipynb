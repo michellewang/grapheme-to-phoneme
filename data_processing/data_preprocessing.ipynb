{
 "cells": [
  {
   "cell_type": "code",
   "execution_count": 1,
   "metadata": {},
   "outputs": [],
   "source": [
    "import re\n",
    "import numpy as np\n",
    "import pickle\n",
    "import matplotlib.pyplot as plt\n",
    "\n",
    "max_word_len = 20\n",
    "start_token = '\\t'\n",
    "end_token = '\\n'"
   ]
  },
  {
   "cell_type": "code",
   "execution_count": 13,
   "metadata": {},
   "outputs": [],
   "source": [
    "def is_valid(word):\n",
    "    return re.match('[A-Z]*(\\(\\d+\\))?$', word) and len(word) <= max_word_len\n",
    "\n",
    "def process(word):\n",
    "    match = re.search('[A-Z]*', word)\n",
    "    return match.group()\n",
    "\n",
    "def remove_last(word):\n",
    "    return re.sub('(\\(\\d+\\))?$', '', word)"
   ]
  },
  {
   "cell_type": "code",
   "execution_count": 18,
   "metadata": {},
   "outputs": [
    {
     "name": "stdout",
     "output_type": "stream",
     "text": [
      "Number of words before preprocessing: 125074\n",
      "Number of pronunciations before preprocessing: 133854\n",
      "Number of words after preprocessing: 116503\n",
      "Number of pronunciations after preprocessing: 124558\n",
      "\n",
      "Number of samples: 124558\n",
      "Number of unique input tokens (characters): 26\n",
      "Number of unique output tokens (phonemes): 71\n",
      "Max sequence length for inputs: 20\n",
      "Max sequence length for outputs: 21\n"
     ]
    }
   ],
   "source": [
    "# data in dict format\n",
    "data_dict = {} # keys are words and values are lists of pronunciation as strings\n",
    "\n",
    "words_all = set() # for counting the total number of words\n",
    "\n",
    "# data in list format\n",
    "data_chars = [] # each element in the list is a list of characters (representing a word)\n",
    "data_phonemes = [] # each element in the list is a list of phonemes (representing a pronunciation)\n",
    "\n",
    "# these will contain all unique characters/phonemes from the dataset\n",
    "list_characters = set()\n",
    "list_phonemes = set()\n",
    "\n",
    "rejected = set()\n",
    "\n",
    "filename_data = 'cmudict.txt'\n",
    "\n",
    "with open(filename_data, encoding='ISO-8859-1') as data_file:\n",
    "    \n",
    "    total_pronunciations = 0\n",
    "    kept_pronunciations = 0\n",
    "    \n",
    "    for line in data_file:\n",
    "    \n",
    "        # skip comments\n",
    "        if line[:3] == ';;;':\n",
    "            continue\n",
    "        \n",
    "        # split line into word and phonemes\n",
    "        word, phonemes = line.strip().split('  ')\n",
    "        \n",
    "        total_pronunciations += 1\n",
    "        \n",
    "        if remove_last(word) not in words_all:\n",
    "            words_all.add(remove_last(word))\n",
    "        \n",
    "        # check if word is valid\n",
    "        if is_valid(word):\n",
    "            \n",
    "            kept_pronunciations += 1\n",
    "            \n",
    "            # remove (#) ending for words with multiple pronounciations\n",
    "            clean_word = process(word)\n",
    "            \n",
    "            # add new word to dict\n",
    "            if clean_word not in data_dict:\n",
    "                data_dict[clean_word] = []\n",
    "            \n",
    "            # add pronunciation to dict\n",
    "            data_dict[clean_word].append(phonemes)\n",
    "            \n",
    "            # convert phoneme string to list and append special 'start' and 'end' symbols\n",
    "            phonemes = [start_token] + phonemes.split(' ') + [end_token]\n",
    "            \n",
    "            # add list of characters and list of phonemes to lists\n",
    "            data_chars.append(list(clean_word))\n",
    "            data_phonemes.append(phonemes)\n",
    "            \n",
    "            # update list of all characters\n",
    "            for c in clean_word:\n",
    "                list_characters.add(c)\n",
    "            \n",
    "            # update list of all phonemes\n",
    "            for p in phonemes:\n",
    "                list_phonemes.add(p)\n",
    "                    \n",
    "list_characters = sorted(list(list_characters))\n",
    "list_phonemes = sorted(list(list_phonemes))\n",
    "\n",
    "num_samples = len(data_chars)\n",
    "\n",
    "num_encoder_tokens = len(list_characters)\n",
    "num_decoder_tokens = len(list_phonemes)\n",
    "\n",
    "max_encoder_seq_len = max([len(seq) for seq in data_chars])\n",
    "max_decoder_seq_len = max([len(seq) for seq in data_phonemes])\n",
    "\n",
    "print('Number of words before preprocessing:', len(list(words_all)))\n",
    "print('Number of pronunciations before preprocessing:', total_pronunciations)\n",
    "print('Number of words after preprocessing:', len(list(data_dict.values())))\n",
    "print('Number of pronunciations after preprocessing:', kept_pronunciations)\n",
    "print()\n",
    "\n",
    "print('Number of samples:', num_samples)\n",
    "print('Number of unique characters:', num_encoder_tokens)\n",
    "print('Number of unique phonemes:', num_decoder_tokens)\n",
    "print('Max sequence length for words:', max_encoder_seq_len)\n",
    "print('Max sequence length for pronunciations:', max_decoder_seq_len)\n"
   ]
  },
  {
   "cell_type": "code",
   "execution_count": 18,
   "metadata": {},
   "outputs": [],
   "source": [
    "# save dict\n",
    "with open('data_dict.pickle', 'wb') as file_out:\n",
    "    pickle.dump(data_dict, file_out)"
   ]
  },
  {
   "cell_type": "code",
   "execution_count": 6,
   "metadata": {},
   "outputs": [],
   "source": [
    "# create mappings\n",
    "def create_maps(elements):\n",
    "    return {e:i for i,e in enumerate(elements)}, {i:e for i,e in enumerate(elements)}\n",
    "\n",
    "map_char_id, map_id_char = create_maps(list_characters)\n",
    "map_phoneme_id, map_id_phoneme = create_maps(list_phonemes)\n",
    "\n",
    "# print(map_char_id)\n",
    "# print(map_id_char)\n",
    "# print(map_phoneme_id)"
   ]
  },
  {
   "cell_type": "code",
   "execution_count": 14,
   "metadata": {},
   "outputs": [],
   "source": [
    "# save mappings\n",
    "with open('mappings.pickle', 'wb') as file_out:\n",
    "    pickle.dump({'char_id':map_char_id, 'id_char':map_id_char,\n",
    "                 'phoneme_id':map_phoneme_id, 'id_phoneme':map_id_phoneme},\n",
    "                file_out)"
   ]
  },
  {
   "cell_type": "code",
   "execution_count": 7,
   "metadata": {},
   "outputs": [
    {
     "name": "stdout",
     "output_type": "stream",
     "text": [
      "(124558, 20, 26)\n",
      "(124558, 21, 71)\n"
     ]
    }
   ],
   "source": [
    "# convert character and phoneme data to 3D arrays\n",
    "encoder_input_data = np.zeros(\n",
    "    (num_samples, max_encoder_seq_len, num_encoder_tokens),\n",
    "    dtype='float32')\n",
    "decoder_input_data = np.zeros(\n",
    "    (num_samples, max_decoder_seq_len, num_decoder_tokens),\n",
    "    dtype='float32')\n",
    "decoder_target_data = np.zeros(\n",
    "    (num_samples, max_decoder_seq_len, num_decoder_tokens),\n",
    "    dtype='float32')\n",
    "\n",
    "for i_sample, (chars, phonemes) in enumerate(zip(data_chars, data_phonemes)):\n",
    "    for i_char, char in enumerate(chars):\n",
    "        encoder_input_data[i_sample, i_char, map_char_id[char]] = 1.\n",
    "    for i_phoneme, phoneme in enumerate(phonemes):\n",
    "        decoder_input_data[i_sample, i_phoneme, map_phoneme_id[phoneme]] = 1.\n",
    "\n",
    "print(encoder_input_data.shape)\n",
    "print(decoder_input_data.shape)\n",
    "\n",
    "# print(decoder_target_data[0][0])"
   ]
  },
  {
   "cell_type": "code",
   "execution_count": 13,
   "metadata": {},
   "outputs": [],
   "source": [
    "# save 3D arrays\n",
    "with open('data_preprocessed.pickle', 'wb') as file_out:\n",
    "    pickle.dump({'chars':encoder_input_data, 'phonemes':decoder_input_data}, file_out)"
   ]
  },
  {
   "cell_type": "code",
   "execution_count": 18,
   "metadata": {},
   "outputs": [
    {
     "name": "stdout",
     "output_type": "stream",
     "text": [
      "ANTIDISESTABLISHMENTARIANISM\n",
      "DEINSTITUTIONALIZATION\n",
      "SUPERCALIFRAGILISTICEXPIALIDOCIOUS\n",
      "{0: 1, 1: 26, 2: 200, 3: 1529, 6: 21357, 8: 17756, 5: 14556, 7: 22120, 9: 13015, 4: 6533, 10: 8727, 11: 5071, 12: 2893, 13: 1555, 14: 691, 15: 348, 16: 140, 17: 64, 18: 21, 28: 1, 19: 6, 20: 6, 22: 1, 34: 1}\n"
     ]
    },
    {
     "data": {
      "text/plain": [
       "<BarContainer object of 24 artists>"
      ]
     },
     "execution_count": 18,
     "metadata": {},
     "output_type": "execute_result"
    },
    {
     "data": {
      "image/png": "[encoded data removed]",
      "text/plain": [
       "<Figure size 432x288 with 1 Axes>"
      ]
     },
     "metadata": {
      "needs_background": "light"
     },
     "output_type": "display_data"
    }
   ],
   "source": [
    "word_len_freq = {}\n",
    "\n",
    "for word in all_words:\n",
    "    length = len(word)\n",
    "    \n",
    "    if length > 20:\n",
    "        print(word)\n",
    "    \n",
    "    if length not in word_len_freq:\n",
    "        word_len_freq[length] = 0\n",
    "    word_len_freq[length] += 1\n",
    "    \n",
    "print(word_len_freq)\n",
    "    \n",
    "fig, ax = plt.subplots()\n",
    "ax.bar(list(word_len_freq.keys()), list(word_len_freq.values()))"
   ]
  },
  {
   "cell_type": "code",
   "execution_count": null,
   "metadata": {},
   "outputs": [],
   "source": []
  }
 ],
 "metadata": {
  "kernelspec": {
   "display_name": "Python 3",
   "language": "python",
   "name": "python3"
  },
  "language_info": {
   "codemirror_mode": {
    "name": "ipython",
    "version": 3
   },
   "file_extension": ".py",
   "mimetype": "text/x-python",
   "name": "python",
   "nbconvert_exporter": "python",
   "pygments_lexer": "ipython3",
   "version": "3.7.3"
  }
 },
 "nbformat": 4,
 "nbformat_minor": 2
}
